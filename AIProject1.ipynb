{
  "nbformat": 4,
  "nbformat_minor": 0,
  "metadata": {
    "colab": {
      "name": "AIProject1.ipynb",
      "provenance": [],
      "collapsed_sections": []
    },
    "kernelspec": {
      "name": "python3",
      "display_name": "Python 3"
    },
    "language_info": {
      "name": "python"
    }
  },
  "cells": [
    {
      "cell_type": "markdown",
      "metadata": {
        "id": "Xwa_oXwIgWAi"
      },
      "source": [
        "##Importing libraries"
      ]
    },
    {
      "cell_type": "code",
      "metadata": {
        "colab": {
          "base_uri": "https://localhost:8080/"
        },
        "id": "FQJfKgwwKnRN",
        "outputId": "b0b63ea5-b5c6-4e7a-e171-0b4230676058"
      },
      "source": [
        "import numpy as np \n",
        "import pandas as pd \n",
        "import nltk\n",
        "nltk.download('stopwords')\n",
        "nltk.download('wordnet')\n",
        "from nltk.corpus import stopwords\n",
        "from nltk.stem import WordNetLemmatizer\n",
        "from gensim.utils import simple_preprocess\n",
        "import matplotlib.pyplot as plt\n",
        "from sklearn.linear_model import LogisticRegression\n",
        "import string\n",
        "from sklearn.feature_extraction.text import CountVectorizer\n",
        "from sklearn.metrics import accuracy_score\n",
        "from sklearn.metrics import f1_score\n",
        "from sklearn.metrics import precision_score\n",
        "from sklearn.metrics import recall_score"
      ],
      "execution_count": 30,
      "outputs": [
        {
          "output_type": "stream",
          "name": "stdout",
          "text": [
            "[nltk_data] Downloading package stopwords to /root/nltk_data...\n",
            "[nltk_data]   Package stopwords is already up-to-date!\n",
            "[nltk_data] Downloading package wordnet to /root/nltk_data...\n",
            "[nltk_data]   Package wordnet is already up-to-date!\n"
          ]
        }
      ]
    },
    {
      "cell_type": "markdown",
      "metadata": {
        "id": "q6PH__jYgeIW"
      },
      "source": [
        "##Reading our data from csv files"
      ]
    },
    {
      "cell_type": "code",
      "metadata": {
        "id": "-Elkk7RULvFO",
        "colab": {
          "base_uri": "https://localhost:8080/"
        },
        "outputId": "9a645f07-896c-4540-b0fd-437516272f4f"
      },
      "source": [
        "vaccine_train_set = pd.read_csv('/content/sample_data/vaccine_train_set.csv')\n",
        "\n",
        "#                               ADD HEAR YOUR TEST SET\n",
        "#                                         |\n",
        "#                                         | \n",
        "#                                         |\n",
        "#                                        \\/\n",
        "vaccine_test_set = pd.read_csv('/content/sample_data/vaccine_validation_set.csv') \n",
        "\n",
        "vaccine_test_set['tweet'] "
      ],
      "execution_count": 31,
      "outputs": [
        {
          "output_type": "execute_result",
          "data": {
            "text/plain": [
              "0       @user They had a massive surge in with covid d...\n",
              "1       Required vaccines for school: Parents and guar...\n",
              "2       “@KCStar: Two more Johnson County children hav...\n",
              "3       NV can do better. Which states are the best (a...\n",
              "4       Nothing like killing ourselves w/ our own fear...\n",
              "                              ...                        \n",
              "2277    RT @abc7: Number of measles cases reported in ...\n",
              "2278    Evidence points to the idea that \"measles affe...\n",
              "2279    Where's @SavedYouAClick \"@voxdotcom: Why you s...\n",
              "2280    Some of my favorite people have autism. If tha...\n",
              "2281    Coronavirus: The married couple behind the suc...\n",
              "Name: tweet, Length: 2282, dtype: object"
            ]
          },
          "metadata": {},
          "execution_count": 31
        }
      ]
    },
    {
      "cell_type": "markdown",
      "metadata": {
        "id": "tmuN0poDgqyH"
      },
      "source": [
        "#Cleaning our data:\n",
        "###1) Lowercase\n",
        "###2) Delete null \n",
        "###3) Removing punctuation\n",
        "###4) Removing stopwords\n",
        "###5) Lemmatizing \n",
        "\n"
      ]
    },
    {
      "cell_type": "code",
      "metadata": {
        "id": "Knpt7dqqRy3s"
      },
      "source": [
        "stop = stopwords.words('english')\n",
        "lemmatizer = nltk.WordNetLemmatizer()\n",
        "\n",
        "def clean_column_text(column):\n",
        "  column = column.dropna()\n",
        "  column = column.apply(lambda x: ' '.join([word for word in x.split() if word not in string.punctuation]))\n",
        "  \n",
        "  column = column.apply(lambda x: \" \".join(x for x in x.split() if x not in stop))\n",
        "\n",
        "  column = [simple_preprocess(tweet, deacc=False) for tweet in column]\n",
        "\n",
        "  lem =[]\n",
        "  for x in column:\n",
        "    token_lemma = [lemmatizer.lemmatize(token) for token in x ]\n",
        "    lem.append(token_lemma)\n",
        "  return lem"
      ],
      "execution_count": 32,
      "outputs": []
    },
    {
      "cell_type": "code",
      "metadata": {
        "colab": {
          "base_uri": "https://localhost:8080/",
          "height": 417
        },
        "id": "0jV5WYbZR2Os",
        "outputId": "d1cd612d-e42d-41ef-9bfa-85c219bfce9e"
      },
      "source": [
        "clean_column = clean_column_text(vaccine_test_set['tweet'] )\n",
        "vaccine_test_set['tweet'] = clean_column\n",
        "\n",
        "clean_column = clean_column_text(vaccine_train_set['tweet'] )\n",
        "vaccine_train_set['tweet'] = clean_column\n",
        "\n",
        "vaccine_test_set "
      ],
      "execution_count": 33,
      "outputs": [
        {
          "output_type": "execute_result",
          "data": {
            "text/html": [
              "<div>\n",
              "<style scoped>\n",
              "    .dataframe tbody tr th:only-of-type {\n",
              "        vertical-align: middle;\n",
              "    }\n",
              "\n",
              "    .dataframe tbody tr th {\n",
              "        vertical-align: top;\n",
              "    }\n",
              "\n",
              "    .dataframe thead th {\n",
              "        text-align: right;\n",
              "    }\n",
              "</style>\n",
              "<table border=\"1\" class=\"dataframe\">\n",
              "  <thead>\n",
              "    <tr style=\"text-align: right;\">\n",
              "      <th></th>\n",
              "      <th>Unnamed: 0</th>\n",
              "      <th>tweet</th>\n",
              "      <th>label</th>\n",
              "    </tr>\n",
              "  </thead>\n",
              "  <tbody>\n",
              "    <tr>\n",
              "      <th>0</th>\n",
              "      <td>0</td>\n",
              "      <td>[user, they, massive, surge, covid, death, imm...</td>\n",
              "      <td>1</td>\n",
              "    </tr>\n",
              "    <tr>\n",
              "      <th>1</th>\n",
              "      <td>1</td>\n",
              "      <td>[required, vaccine, school, parent, guardian, ...</td>\n",
              "      <td>0</td>\n",
              "    </tr>\n",
              "    <tr>\n",
              "      <th>2</th>\n",
              "      <td>2</td>\n",
              "      <td>[kcstar, two, johnson, county, child, measles,...</td>\n",
              "      <td>0</td>\n",
              "    </tr>\n",
              "    <tr>\n",
              "      <th>3</th>\n",
              "      <td>3</td>\n",
              "      <td>[nv, better, which, state, best, and, worst, v...</td>\n",
              "      <td>2</td>\n",
              "    </tr>\n",
              "    <tr>\n",
              "      <th>4</th>\n",
              "      <td>4</td>\n",
              "      <td>[nothing, like, killing, fear, mt, alyssa_mila...</td>\n",
              "      <td>2</td>\n",
              "    </tr>\n",
              "    <tr>\n",
              "      <th>...</th>\n",
              "      <td>...</td>\n",
              "      <td>...</td>\n",
              "      <td>...</td>\n",
              "    </tr>\n",
              "    <tr>\n",
              "      <th>2277</th>\n",
              "      <td>2277</td>\n",
              "      <td>[rt, abc, number, measles, case, reported, cal...</td>\n",
              "      <td>0</td>\n",
              "    </tr>\n",
              "    <tr>\n",
              "      <th>2278</th>\n",
              "      <td>2278</td>\n",
              "      <td>[evidence, point, idea, measles, affect, immun...</td>\n",
              "      <td>0</td>\n",
              "    </tr>\n",
              "    <tr>\n",
              "      <th>2279</th>\n",
              "      <td>2279</td>\n",
              "      <td>[where, savedyouaclick, voxdotcom, why, vaccin...</td>\n",
              "      <td>2</td>\n",
              "    </tr>\n",
              "    <tr>\n",
              "      <th>2280</th>\n",
              "      <td>2280</td>\n",
              "      <td>[some, favorite, people, autism, if, that, rea...</td>\n",
              "      <td>2</td>\n",
              "    </tr>\n",
              "    <tr>\n",
              "      <th>2281</th>\n",
              "      <td>2281</td>\n",
              "      <td>[coronavirus, the, married, couple, behind, su...</td>\n",
              "      <td>0</td>\n",
              "    </tr>\n",
              "  </tbody>\n",
              "</table>\n",
              "<p>2282 rows × 3 columns</p>\n",
              "</div>"
            ],
            "text/plain": [
              "      Unnamed: 0                                              tweet  label\n",
              "0              0  [user, they, massive, surge, covid, death, imm...      1\n",
              "1              1  [required, vaccine, school, parent, guardian, ...      0\n",
              "2              2  [kcstar, two, johnson, county, child, measles,...      0\n",
              "3              3  [nv, better, which, state, best, and, worst, v...      2\n",
              "4              4  [nothing, like, killing, fear, mt, alyssa_mila...      2\n",
              "...          ...                                                ...    ...\n",
              "2277        2277  [rt, abc, number, measles, case, reported, cal...      0\n",
              "2278        2278  [evidence, point, idea, measles, affect, immun...      0\n",
              "2279        2279  [where, savedyouaclick, voxdotcom, why, vaccin...      2\n",
              "2280        2280  [some, favorite, people, autism, if, that, rea...      2\n",
              "2281        2281  [coronavirus, the, married, couple, behind, su...      0\n",
              "\n",
              "[2282 rows x 3 columns]"
            ]
          },
          "metadata": {},
          "execution_count": 33
        }
      ]
    },
    {
      "cell_type": "code",
      "metadata": {
        "colab": {
          "base_uri": "https://localhost:8080/",
          "height": 417
        },
        "id": "c0gNgbKUa2cB",
        "outputId": "45299d12-4206-4f36-f472-637b5f629746"
      },
      "source": [
        "vaccine_train_set"
      ],
      "execution_count": 28,
      "outputs": [
        {
          "output_type": "execute_result",
          "data": {
            "text/html": [
              "<div>\n",
              "<style scoped>\n",
              "    .dataframe tbody tr th:only-of-type {\n",
              "        vertical-align: middle;\n",
              "    }\n",
              "\n",
              "    .dataframe tbody tr th {\n",
              "        vertical-align: top;\n",
              "    }\n",
              "\n",
              "    .dataframe thead th {\n",
              "        text-align: right;\n",
              "    }\n",
              "</style>\n",
              "<table border=\"1\" class=\"dataframe\">\n",
              "  <thead>\n",
              "    <tr style=\"text-align: right;\">\n",
              "      <th></th>\n",
              "      <th>Unnamed: 0</th>\n",
              "      <th>tweet</th>\n",
              "      <th>label</th>\n",
              "    </tr>\n",
              "  </thead>\n",
              "  <tbody>\n",
              "    <tr>\n",
              "      <th>0</th>\n",
              "      <td>0</td>\n",
              "      <td>[sip, shop, come, thru, right, marjais, popula...</td>\n",
              "      <td>0</td>\n",
              "    </tr>\n",
              "    <tr>\n",
              "      <th>1</th>\n",
              "      <td>1</td>\n",
              "      <td>[know, my, family, take, covid, vaccine, anyti...</td>\n",
              "      <td>1</td>\n",
              "    </tr>\n",
              "    <tr>\n",
              "      <th>2</th>\n",
              "      <td>2</td>\n",
              "      <td>[msignorile, immunization, mandatory, period, ...</td>\n",
              "      <td>2</td>\n",
              "    </tr>\n",
              "    <tr>\n",
              "      <th>3</th>\n",
              "      <td>3</td>\n",
              "      <td>[president, obama, spoke, favor, vaccination, ...</td>\n",
              "      <td>0</td>\n",
              "    </tr>\n",
              "    <tr>\n",
              "      <th>4</th>\n",
              "      <td>4</td>\n",
              "      <td>[myfoxla, arizona, monitoring, hundred, measle...</td>\n",
              "      <td>0</td>\n",
              "    </tr>\n",
              "    <tr>\n",
              "      <th>...</th>\n",
              "      <td>...</td>\n",
              "      <td>...</td>\n",
              "      <td>...</td>\n",
              "    </tr>\n",
              "    <tr>\n",
              "      <th>15971</th>\n",
              "      <td>15971</td>\n",
              "      <td>[salon, believe, anti, vax, nutcase, caused, m...</td>\n",
              "      <td>1</td>\n",
              "    </tr>\n",
              "    <tr>\n",
              "      <th>15972</th>\n",
              "      <td>15972</td>\n",
              "      <td>[how, feel, parent, vaccinate, kid, http, co, ...</td>\n",
              "      <td>0</td>\n",
              "    </tr>\n",
              "    <tr>\n",
              "      <th>15973</th>\n",
              "      <td>15973</td>\n",
              "      <td>[preschooler, tested, measles, simi, valley, h...</td>\n",
              "      <td>0</td>\n",
              "    </tr>\n",
              "    <tr>\n",
              "      <th>15974</th>\n",
              "      <td>15974</td>\n",
              "      <td>[finance, minister, budget, offer, room, procu...</td>\n",
              "      <td>0</td>\n",
              "    </tr>\n",
              "    <tr>\n",
              "      <th>15975</th>\n",
              "      <td>15975</td>\n",
              "      <td>[are, date, vaccine, take, cdc, vaccine, quiz,...</td>\n",
              "      <td>2</td>\n",
              "    </tr>\n",
              "  </tbody>\n",
              "</table>\n",
              "<p>15976 rows × 3 columns</p>\n",
              "</div>"
            ],
            "text/plain": [
              "       Unnamed: 0                                              tweet  label\n",
              "0               0  [sip, shop, come, thru, right, marjais, popula...      0\n",
              "1               1  [know, my, family, take, covid, vaccine, anyti...      1\n",
              "2               2  [msignorile, immunization, mandatory, period, ...      2\n",
              "3               3  [president, obama, spoke, favor, vaccination, ...      0\n",
              "4               4  [myfoxla, arizona, monitoring, hundred, measle...      0\n",
              "...           ...                                                ...    ...\n",
              "15971       15971  [salon, believe, anti, vax, nutcase, caused, m...      1\n",
              "15972       15972  [how, feel, parent, vaccinate, kid, http, co, ...      0\n",
              "15973       15973  [preschooler, tested, measles, simi, valley, h...      0\n",
              "15974       15974  [finance, minister, budget, offer, room, procu...      0\n",
              "15975       15975  [are, date, vaccine, take, cdc, vaccine, quiz,...      2\n",
              "\n",
              "[15976 rows x 3 columns]"
            ]
          },
          "metadata": {},
          "execution_count": 28
        }
      ]
    },
    {
      "cell_type": "markdown",
      "metadata": {
        "id": "qDzHAmrkhiu_"
      },
      "source": [
        "#Vectorizing:"
      ]
    },
    {
      "cell_type": "code",
      "metadata": {
        "id": "yETY1_eANF2O"
      },
      "source": [
        "#On this point is nesesery to say that is extremely important to Vectorize first the train set and after the test set! \n",
        "#This is crusial because the sets need to have the same shape (x_train.shape() == x_test.shape()).\n",
        "\n",
        "bow_vectorizer = CountVectorizer(tokenizer=lambda doc: doc, lowercase=False, min_df=4, max_df=0.6)\n",
        "\n",
        "\n",
        "x_train = bow_vectorizer.fit_transform(vaccine_train_set['tweet'])\n",
        "y_train = vaccine_train_set['label'].values\n",
        "\n",
        "\n",
        "x_test = bow_vectorizer.transform(vaccine_test_set['tweet'])\n",
        "y_test = vaccine_test_set['label'].values\n"
      ],
      "execution_count": 34,
      "outputs": []
    },
    {
      "cell_type": "markdown",
      "metadata": {
        "id": "A1Sg2cOWhvXl"
      },
      "source": [
        "#Softmax Regression model "
      ]
    },
    {
      "cell_type": "code",
      "metadata": {
        "colab": {
          "base_uri": "https://localhost:8080/"
        },
        "id": "7Y2_TMLGNLV0",
        "outputId": "95a99cd7-1c34-4bf8-92c6-afb94867f55f"
      },
      "source": [
        "SoftmaxRegressionmodel = LogisticRegression(max_iter=10000,multi_class = 'multinomial', solver = 'lbfgs').fit(x_train, y_train)\n",
        "y_pred = SoftmaxRegressionmodel.predict(x_test)\n",
        "print('Softmax Regression\\'s accuracy:', accuracy_score(y_pred, y_test)*100, '%')\n",
        "print('Softmax Regression\\'s F1 score:', f1_score(y_pred, y_test, average='micro')*100, '%')\n",
        "\n",
        "print(\"Softmax Regression\\'s Precision Score : \",precision_score(y_test, y_pred,average='micro')*100, '%')\n",
        "print(\"Softmax Regression\\'s Recall Score : \",recall_score(y_test, y_pred,  average='micro')*100, '%\\n')"
      ],
      "execution_count": 35,
      "outputs": [
        {
          "output_type": "stream",
          "name": "stdout",
          "text": [
            "Softmax Regression's accuracy: 71.7353198948291 %\n",
            "Softmax Regression's F1 score: 71.7353198948291 %\n",
            "Softmax Regression's Precision Score :  71.7353198948291 %\n",
            "Softmax Regression's Recall Score :  71.7353198948291 %\n",
            "\n"
          ]
        }
      ]
    },
    {
      "cell_type": "markdown",
      "metadata": {
        "id": "lRTGO8pHVan4"
      },
      "source": [
        "#Learning Curves🔀"
      ]
    },
    {
      "cell_type": "code",
      "metadata": {
        "colab": {
          "base_uri": "https://localhost:8080/",
          "height": 336
        },
        "id": "VpyEsJnvmEds",
        "outputId": "1488d29a-b644-4873-cb42-b8cecbd62cde"
      },
      "source": [
        "from matplotlib import pyplot as plt\n",
        "from sklearn import metrics\n",
        "#import numpy as np\n",
        "from sklearn.metrics import explained_variance_score\n",
        "\n",
        "def data_size_response(trX,teX,trY,teY,score_func):\n",
        "    prob=True\n",
        "    n_subsets=15\n",
        "    train_errs,test_errs = [],[]\n",
        "    subset_sizes = np.exp(np.linspace(3,np.log(trX.shape[0]),n_subsets)).astype(int)\n",
        "\n",
        "    for m in subset_sizes:\n",
        "        model =LogisticRegression(max_iter=10000,multi_class = 'multinomial', solver = 'lbfgs').fit(trX[:m],trY[:m])\n",
        "        train_err = score_func(trY[:m],model.predict(trX[:m]))\n",
        "        test_err = score_func(teY,model.predict(teX))\n",
        "        train_errs.append(train_err)\n",
        "        test_errs.append(test_err)\n",
        "    print(train_errs)\n",
        "    return subset_sizes,train_errs,test_errs\n",
        "\n",
        "def plot_response(subset_sizes,train_errs,test_errs):\n",
        "\n",
        "    plt.plot(subset_sizes,train_errs,lw=2)\n",
        "    plt.plot(subset_sizes,test_errs,lw=2)\n",
        "    plt.legend(['Training Error','Test Error'])\n",
        "    plt.xscale('log')\n",
        "    plt.xlabel('Dataset size')\n",
        "    plt.ylabel('Error')\n",
        "    plt.title('Learning Curves')\n",
        "    plt.show()\n",
        "\n",
        "score_func = explained_variance_score\n",
        "response = data_size_response(x_train,x_test,y_train,y_test,score_func)\n",
        "plot_response(*response)"
      ],
      "execution_count": 39,
      "outputs": [
        {
          "output_type": "stream",
          "name": "stdout",
          "text": [
            "[1.0, 1.0, 1.0, 1.0, 1.0, 1.0, 1.0, 0.9919031241043279, 0.9871294565456794, 0.951643383953178, 0.922885633468989, 0.8617173315961044, 0.7935868326963682, 0.6826461382226083, 0.5795996615413559]\n"
          ]
        },
        {
          "output_type": "display_data",
          "data": {
            "image/png": "[encoded data removed]",
            "text/plain": [
              "<Figure size 432x288 with 1 Axes>"
            ]
          },
          "metadata": {
            "needs_background": "light"
          }
        }
      ]
    }
  ]
}